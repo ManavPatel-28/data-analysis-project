{
 "cells": [
  {
   "cell_type": "code",
   "execution_count": null,
   "id": "ca367d55-67c2-45fc-831e-e7105b6dcf9f",
   "metadata": {},
   "outputs": [],
   "source": [
    "### Task 1.1 — Fill missing latitude and longitude using country average\n"
   ]
  },
  {
   "cell_type": "code",
   "execution_count": 4,
   "id": "ca3fba1e-ff94-401d-8aac-f9debb809d79",
   "metadata": {},
   "outputs": [],
   "source": [
    "# Fill missing lat/lon using country average\n",
    "df['latitude'] = df['latitude'].fillna(df.groupby('country')['latitude'].transform('mean'))\n",
    "df['longitude'] = df['longitude'].fillna(df.groupby('country')['longitude'].transform('mean'))\n",
    "\n",
    "# Round to 2 decimal places\n",
    "df['latitude'] = df['latitude'].round(2)\n",
    "df['longitude'] = df['longitude'].round(2)\n"
   ]
  },
  {
   "cell_type": "code",
   "execution_count": 5,
   "id": "e94f35f7-d781-4af3-b4c8-9ac627089a2d",
   "metadata": {},
   "outputs": [
    {
     "data": {
      "text/html": [
       "<div>\n",
       "<style scoped>\n",
       "    .dataframe tbody tr th:only-of-type {\n",
       "        vertical-align: middle;\n",
       "    }\n",
       "\n",
       "    .dataframe tbody tr th {\n",
       "        vertical-align: top;\n",
       "    }\n",
       "\n",
       "    .dataframe thead th {\n",
       "        text-align: right;\n",
       "    }\n",
       "</style>\n",
       "<table border=\"1\" class=\"dataframe\">\n",
       "  <thead>\n",
       "    <tr style=\"text-align: right;\">\n",
       "      <th></th>\n",
       "      <th>city</th>\n",
       "      <th>country</th>\n",
       "      <th>population</th>\n",
       "      <th>EU</th>\n",
       "      <th>coastline</th>\n",
       "      <th>latitude</th>\n",
       "      <th>longitude</th>\n",
       "      <th>temperature</th>\n",
       "    </tr>\n",
       "  </thead>\n",
       "  <tbody>\n",
       "    <tr>\n",
       "      <th>0</th>\n",
       "      <td>Elbasan</td>\n",
       "      <td>Albania</td>\n",
       "      <td>2.90</td>\n",
       "      <td>no</td>\n",
       "      <td>yes</td>\n",
       "      <td>41.12</td>\n",
       "      <td>20.08</td>\n",
       "      <td>15.18</td>\n",
       "    </tr>\n",
       "    <tr>\n",
       "      <th>1</th>\n",
       "      <td>Andorra</td>\n",
       "      <td>Andorra</td>\n",
       "      <td>0.07</td>\n",
       "      <td>no</td>\n",
       "      <td>no</td>\n",
       "      <td>42.50</td>\n",
       "      <td>1.52</td>\n",
       "      <td>NaN</td>\n",
       "    </tr>\n",
       "    <tr>\n",
       "      <th>2</th>\n",
       "      <td>Innsbruck</td>\n",
       "      <td>Austria</td>\n",
       "      <td>8.57</td>\n",
       "      <td>yes</td>\n",
       "      <td>no</td>\n",
       "      <td>47.85</td>\n",
       "      <td>11.41</td>\n",
       "      <td>4.54</td>\n",
       "    </tr>\n",
       "    <tr>\n",
       "      <th>3</th>\n",
       "      <td>Graz</td>\n",
       "      <td>Austria</td>\n",
       "      <td>8.57</td>\n",
       "      <td>yes</td>\n",
       "      <td>no</td>\n",
       "      <td>47.08</td>\n",
       "      <td>14.02</td>\n",
       "      <td>6.91</td>\n",
       "    </tr>\n",
       "    <tr>\n",
       "      <th>4</th>\n",
       "      <td>Linz</td>\n",
       "      <td>Austria</td>\n",
       "      <td>8.57</td>\n",
       "      <td>yes</td>\n",
       "      <td>no</td>\n",
       "      <td>48.32</td>\n",
       "      <td>14.29</td>\n",
       "      <td>6.79</td>\n",
       "    </tr>\n",
       "  </tbody>\n",
       "</table>\n",
       "</div>"
      ],
      "text/plain": [
       "        city  country  population   EU coastline  latitude  longitude  \\\n",
       "0    Elbasan  Albania        2.90   no       yes     41.12      20.08   \n",
       "1    Andorra  Andorra        0.07   no        no     42.50       1.52   \n",
       "2  Innsbruck  Austria        8.57  yes        no     47.85      11.41   \n",
       "3       Graz  Austria        8.57  yes        no     47.08      14.02   \n",
       "4       Linz  Austria        8.57  yes        no     48.32      14.29   \n",
       "\n",
       "   temperature  \n",
       "0        15.18  \n",
       "1          NaN  \n",
       "2         4.54  \n",
       "3         6.91  \n",
       "4         6.79  "
      ]
     },
     "execution_count": 5,
     "metadata": {},
     "output_type": "execute_result"
    }
   ],
   "source": [
    "df.head()\n"
   ]
  },
  {
   "cell_type": "code",
   "execution_count": 6,
   "id": "e1dc6dc7-54b2-4594-83ed-b0e497f992a3",
   "metadata": {},
   "outputs": [],
   "source": [
    "### Task 1.2 — Filter cities with lat [40–60] and long [15–30], and find country/countries with most cities in that range\n",
    "\n"
   ]
  },
  {
   "cell_type": "code",
   "execution_count": 7,
   "id": "d4421938-b127-44dc-8182-98a1c0b397ce",
   "metadata": {},
   "outputs": [
    {
     "name": "stdout",
     "output_type": "stream",
     "text": [
      "Countries with the most cities in lat 40–60 and long 15–30:\n",
      "country\n",
      "Romania    9\n",
      "Poland     9\n",
      "Name: count, dtype: int64\n"
     ]
    }
   ],
   "source": [
    "# Filter cities in the lat-long band\n",
    "filtered_df = df[\n",
    "    (df['latitude'] >= 40) & (df['latitude'] <= 60) &\n",
    "    (df['longitude'] >= 15) & (df['longitude'] <= 30)\n",
    "]\n",
    "\n",
    "# Count how many cities each country has in this filtered region\n",
    "country_counts = filtered_df['country'].value_counts()\n",
    "\n",
    "# Find the maximum count value\n",
    "max_count = country_counts.max()\n",
    "\n",
    "# Get countries with that maximum number of cities\n",
    "top_countries = country_counts[country_counts == max_count]\n",
    "\n",
    "print(\"Countries with the most cities in lat 40–60 and long 15–30:\")\n",
    "print(top_countries)\n"
   ]
  },
  {
   "cell_type": "code",
   "execution_count": 8,
   "id": "8a6d11cd-e346-4f8f-924e-7b0b30404c3a",
   "metadata": {},
   "outputs": [],
   "source": [
    "### Task 1.3 — Fill missing temperature using region type average (based on EU and coastline)\n"
   ]
  },
  {
   "cell_type": "code",
   "execution_count": 9,
   "id": "a09eafbb-32a4-425f-9ca1-860f38257b11",
   "metadata": {},
   "outputs": [
    {
     "data": {
      "text/html": [
       "<div>\n",
       "<style scoped>\n",
       "    .dataframe tbody tr th:only-of-type {\n",
       "        vertical-align: middle;\n",
       "    }\n",
       "\n",
       "    .dataframe tbody tr th {\n",
       "        vertical-align: top;\n",
       "    }\n",
       "\n",
       "    .dataframe thead th {\n",
       "        text-align: right;\n",
       "    }\n",
       "</style>\n",
       "<table border=\"1\" class=\"dataframe\">\n",
       "  <thead>\n",
       "    <tr style=\"text-align: right;\">\n",
       "      <th></th>\n",
       "      <th>city</th>\n",
       "      <th>country</th>\n",
       "      <th>population</th>\n",
       "      <th>EU</th>\n",
       "      <th>coastline</th>\n",
       "      <th>latitude</th>\n",
       "      <th>longitude</th>\n",
       "      <th>temperature</th>\n",
       "      <th>region_type</th>\n",
       "    </tr>\n",
       "  </thead>\n",
       "  <tbody>\n",
       "    <tr>\n",
       "      <th>0</th>\n",
       "      <td>Elbasan</td>\n",
       "      <td>Albania</td>\n",
       "      <td>2.90</td>\n",
       "      <td>no</td>\n",
       "      <td>yes</td>\n",
       "      <td>41.12</td>\n",
       "      <td>20.08</td>\n",
       "      <td>15.180000</td>\n",
       "      <td>no_yes</td>\n",
       "    </tr>\n",
       "    <tr>\n",
       "      <th>1</th>\n",
       "      <td>Andorra</td>\n",
       "      <td>Andorra</td>\n",
       "      <td>0.07</td>\n",
       "      <td>no</td>\n",
       "      <td>no</td>\n",
       "      <td>42.50</td>\n",
       "      <td>1.52</td>\n",
       "      <td>7.481538</td>\n",
       "      <td>no_no</td>\n",
       "    </tr>\n",
       "    <tr>\n",
       "      <th>2</th>\n",
       "      <td>Innsbruck</td>\n",
       "      <td>Austria</td>\n",
       "      <td>8.57</td>\n",
       "      <td>yes</td>\n",
       "      <td>no</td>\n",
       "      <td>47.85</td>\n",
       "      <td>11.41</td>\n",
       "      <td>4.540000</td>\n",
       "      <td>yes_no</td>\n",
       "    </tr>\n",
       "    <tr>\n",
       "      <th>3</th>\n",
       "      <td>Graz</td>\n",
       "      <td>Austria</td>\n",
       "      <td>8.57</td>\n",
       "      <td>yes</td>\n",
       "      <td>no</td>\n",
       "      <td>47.08</td>\n",
       "      <td>14.02</td>\n",
       "      <td>6.910000</td>\n",
       "      <td>yes_no</td>\n",
       "    </tr>\n",
       "    <tr>\n",
       "      <th>4</th>\n",
       "      <td>Linz</td>\n",
       "      <td>Austria</td>\n",
       "      <td>8.57</td>\n",
       "      <td>yes</td>\n",
       "      <td>no</td>\n",
       "      <td>48.32</td>\n",
       "      <td>14.29</td>\n",
       "      <td>6.790000</td>\n",
       "      <td>yes_no</td>\n",
       "    </tr>\n",
       "  </tbody>\n",
       "</table>\n",
       "</div>"
      ],
      "text/plain": [
       "        city  country  population   EU coastline  latitude  longitude  \\\n",
       "0    Elbasan  Albania        2.90   no       yes     41.12      20.08   \n",
       "1    Andorra  Andorra        0.07   no        no     42.50       1.52   \n",
       "2  Innsbruck  Austria        8.57  yes        no     47.85      11.41   \n",
       "3       Graz  Austria        8.57  yes        no     47.08      14.02   \n",
       "4       Linz  Austria        8.57  yes        no     48.32      14.29   \n",
       "\n",
       "   temperature region_type  \n",
       "0    15.180000      no_yes  \n",
       "1     7.481538       no_no  \n",
       "2     4.540000      yes_no  \n",
       "3     6.910000      yes_no  \n",
       "4     6.790000      yes_no  "
      ]
     },
     "execution_count": 9,
     "metadata": {},
     "output_type": "execute_result"
    }
   ],
   "source": [
    "# Step 1: Create a 'region_type' column (like 'yes_yes', 'no_no')\n",
    "df['region_type'] = df['EU'].str.lower() + '_' + df['coastline'].str.lower()\n",
    "\n",
    "# Step 2: Compute average temperature per region type\n",
    "region_temp_avg = df.groupby('region_type')['temperature'].mean()\n",
    "\n",
    "# Step 3: Define a function to fill missing temperature using region average\n",
    "def fill_temperature(row):\n",
    "    if pd.isna(row['temperature']):\n",
    "        return region_temp_avg[row['region_type']]\n",
    "    return row['temperature']\n",
    "\n",
    "# Step 4: Apply the function\n",
    "df['temperature'] = df.apply(fill_temperature, axis=1)\n",
    "\n",
    "# Step 5: Optional — preview changes\n",
    "df.head()\n"
   ]
  },
  {
   "cell_type": "code",
   "execution_count": 10,
   "id": "45c34be4-2df4-4203-b40c-8a3e29aa192d",
   "metadata": {},
   "outputs": [],
   "source": [
    "### Task 1.4.1 — Bar chart showing number of cities in each region type (EU + Coastline)\n"
   ]
  },
  {
   "cell_type": "code",
   "execution_count": 11,
   "id": "d13c93b3-a8d1-44ec-a6ed-bbc0534b4564",
   "metadata": {},
   "outputs": [
    {
     "data": {
      "image/png": "[encoded data removed]",
      "text/plain": [
       "<Figure size 800x500 with 1 Axes>"
      ]
     },
     "metadata": {},
     "output_type": "display_data"
    }
   ],
   "source": [
    "import matplotlib.pyplot as plt\n",
    "\n",
    "# Count number of cities per region_type\n",
    "region_counts = df['region_type'].value_counts()\n",
    "\n",
    "# Plot bar chart\n",
    "plt.figure(figsize=(8, 5))\n",
    "region_counts.plot(kind='bar', color='skyblue', edgecolor='black')\n",
    "\n",
    "# Add labels and title\n",
    "plt.title('Number of Cities per Region Type')\n",
    "plt.xlabel('Region Type (EU + Coastline)')\n",
    "plt.ylabel('Number of Cities')\n",
    "plt.xticks(rotation=0)\n",
    "plt.grid(axis='y', linestyle='--', alpha=0.7)\n",
    "\n",
    "plt.tight_layout()\n",
    "plt.show()\n"
   ]
  },
  {
   "cell_type": "code",
   "execution_count": 12,
   "id": "b89c6ba0-1e6c-40d3-a6b0-67549ce50bfa",
   "metadata": {},
   "outputs": [],
   "source": [
    "### Task 1.4.2 — Scatter plot of latitude (y-axis) vs longitude (x-axis), colored by country\n"
   ]
  },
  {
   "cell_type": "code",
   "execution_count": null,
   "id": "831327c4-f0d7-4d46-8bec-203ad6e9495f",
   "metadata": {},
   "outputs": [],
   "source": [
    "# Create a color-coded scatter plot of cities based on country\n",
    "plt.figure(figsize=(10, 6))\n",
    "\n",
    "# Use groupby to plot each country's cities with a different color\n",
    "for country, group in df.groupby('country'):\n",
    "    plt.scatter(group['longitude'], group['latitude'], label=country, s=25)\n",
    "\n",
    "# Add title and labels\n",
    "plt.title('City Locations: Latitude vs Longitude')\n",
    "plt.xlabel('Longitude')\n",
    "plt.ylabel('Latitude')\n",
    "plt.legend(loc='center left', bbox_to_anchor=(1, 0.5), fontsize='small', ncol=2)\n",
    "plt.grid(True)\n",
    "plt.tight_layout()\n",
    "plt.show()\n"
   ]
  },
  {
   "cell_type": "code",
   "execution_count": 14,
   "id": "9399d5ea-9994-4fda-99a8-d5946efe68cc",
   "metadata": {},
   "outputs": [],
   "source": [
    "### Task 1.4.3 — Histogram of population values (across all cities)\n"
   ]
  },
  {
   "cell_type": "code",
   "execution_count": 15,
   "id": "9de2b758-b495-4f04-8b92-d0e6c0dae2ef",
   "metadata": {},
   "outputs": [
    {
     "data": {
      "image/png": "[encoded data removed]",
      "text/plain": [
       "<Figure size 800x500 with 1 Axes>"
      ]
     },
     "metadata": {},
     "output_type": "display_data"
    }
   ],
   "source": [
    "plt.figure(figsize=(8, 5))\n",
    "\n",
    "# Plot histogram\n",
    "plt.hist(df['population'], bins=5, edgecolor='black', color='lightgreen')\n",
    "\n",
    "# Add title and labels\n",
    "plt.title('Distribution of City Populations')\n",
    "plt.xlabel('Population (millions)')\n",
    "plt.ylabel('Number of Cities')\n",
    "plt.grid(axis='y', linestyle='--', alpha=0.7)\n",
    "\n",
    "plt.tight_layout()\n",
    "plt.show()\n"
   ]
  },
  {
   "cell_type": "code",
   "execution_count": 16,
   "id": "3feed86b-4dd5-41af-bf92-31531b03da9f",
   "metadata": {},
   "outputs": [],
   "source": [
    "### Task 1.4.4 — 2x2 subplots: City vs Latitude, color-coded by temperature for each region type\n"
   ]
  },
  {
   "cell_type": "code",
   "execution_count": null,
   "id": "12deafc1-ca71-40b2-89e6-70c0245d1ed3",
   "metadata": {},
   "outputs": [],
   "source": [
    "import matplotlib.pyplot as plt\n",
    "\n",
    "def temp_color(temp):\n",
    "    if temp > 10:\n",
    "        return 'red'\n",
    "    elif temp < 6:\n",
    "        return 'blue'\n",
    "    else:\n",
    "        return 'orange'\n",
    "\n",
    "region_types = df['region_type'].unique()\n",
    "fig, axes = plt.subplots(2, 2, figsize=(14, 12))\n",
    "axes = axes.flatten()\n",
    "\n",
    "for i, region in enumerate(region_types):\n",
    "    ax = axes[i]\n",
    "    subset = df[df['region_type'] == region].reset_index(drop=True)\n",
    "    n = len(subset)\n",
    "    \n",
    "    x_values = range(n)  # from 0 to n-1\n",
    "    y_values = subset['latitude']\n",
    "    colors = subset['temperature'].apply(temp_color)\n",
    "    \n",
    "    ax.scatter(x_values, y_values, c=colors, s=50)\n",
    "    ax.set_title(f\"Region: {region}\")\n",
    "    ax.set_xlabel(\"City Index\")\n",
    "    ax.set_ylabel(\"Latitude\")\n",
    "    \n",
    "    ax.set_xticks(range(n))\n",
    "    ax.tick_params(axis='x', labelrotation=90)\n",
    "\n",
    "# Hide empty subplots if fewer than 4 region types\n",
    "for j in range(i+1, 4):\n",
    "    axes[j].axis('off')\n",
    "\n",
    "plt.suptitle(\"Scatter Plots of Latitude vs. City Index by Region Type (Colored by Temperature)\")\n",
    "plt.tight_layout(rect=[0, 0, 1, 0.95])\n",
    "plt.show()\n"
   ]
  },
  {
   "cell_type": "code",
   "execution_count": null,
   "id": "7c944bf4-dc22-4357-b2e6-6797ce44282c",
   "metadata": {},
   "outputs": [],
   "source": []
  }
 ],
 "metadata": {
  "kernelspec": {
   "display_name": "Python 3 (ipykernel)",
   "language": "python",
   "name": "python3"
  },
  "language_info": {
   "codemirror_mode": {
    "name": "ipython",
    "version": 3
   },
   "file_extension": ".py",
   "mimetype": "text/x-python",
   "name": "python",
   "nbconvert_exporter": "python",
   "pygments_lexer": "ipython3",
   "version": "3.12.7"
  }
 },
 "nbformat": 4,
 "nbformat_minor": 5
}
