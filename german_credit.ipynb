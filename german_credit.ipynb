{
 "cells": [
  {
   "cell_type": "code",
   "execution_count": 1,
   "id": "08945fd9-fa7d-4c32-bc5c-531d819f2ea4",
   "metadata": {},
   "outputs": [],
   "source": [
    "### Task 2.1 — Drop the 3 columns with the most 'none' values (excluding 0s)\n"
   ]
  },
  {
   "cell_type": "code",
   "execution_count": 2,
   "id": "c589b3df-4997-4b0c-96ca-e3072414aed6",
   "metadata": {},
   "outputs": [
    {
     "name": "stdout",
     "output_type": "stream",
     "text": [
      "Dropped columns with most 'none' values:\n",
      "['other_parties', 'other_payment_plans', 'own_telephone']\n"
     ]
    }
   ],
   "source": [
    "import pandas as pd\n",
    "\n",
    "# Load dataset\n",
    "df = pd.read_csv('GermanCredit.csv')\n",
    "\n",
    "# Count 'none' values per column\n",
    "none_counts = (df == 'none').sum()\n",
    "none_counts = none_counts[none_counts > 0].sort_values(ascending=False)\n",
    "\n",
    "# Get top 3 columns with most 'none'\n",
    "top_none_cols = none_counts.head(3).index.tolist()\n",
    "\n",
    "# Drop them\n",
    "df.drop(columns=top_none_cols, inplace=True)\n",
    "\n",
    "# Show what was dropped\n",
    "print(\"Dropped columns with most 'none' values:\")\n",
    "print(top_none_cols)\n"
   ]
  },
  {
   "cell_type": "code",
   "execution_count": 3,
   "id": "b736d706-a7fa-49fc-b1a9-6bed0dff1dce",
   "metadata": {},
   "outputs": [],
   "source": [
    "### Task 2.2 — Remove all apostrophes (') from string values\n"
   ]
  },
  {
   "cell_type": "code",
   "execution_count": 6,
   "id": "b9666e54-20a9-4db8-a548-c0e786ef8fe1",
   "metadata": {},
   "outputs": [
    {
     "name": "stdout",
     "output_type": "stream",
     "text": [
      "Removed all apostrophes from string values.\n"
     ]
    }
   ],
   "source": [
    "# Remove apostrophes from all string entries in the DataFrame\n",
    "df = df.astype(str).apply(lambda col: col.str.replace(\"'\", \"\", regex=False))\n",
    "\n",
    "print(\"Removed all apostrophes from string values.\")\n",
    "\n"
   ]
  },
  {
   "cell_type": "code",
   "execution_count": 7,
   "id": "02277927-8f84-4f5a-a34e-320021cca14a",
   "metadata": {},
   "outputs": [],
   "source": [
    "### Task 2.3 — Convert 'credit_amount', 'duration', and 'age' columns to integers\n"
   ]
  },
  {
   "cell_type": "code",
   "execution_count": 9,
   "id": "8f98d2a6-08e8-46c8-b578-5bf031f71d80",
   "metadata": {},
   "outputs": [
    {
     "name": "stdout",
     "output_type": "stream",
     "text": [
      "Converted 'credit_amount', 'duration', and 'age' columns to integers.\n"
     ]
    }
   ],
   "source": [
    "# Convert relevant columns to integer type\n",
    "cols_to_convert = ['credit_amount', 'duration', 'age']\n",
    "\n",
    "for col in cols_to_convert:\n",
    "    df[col] = pd.to_numeric(df[col], errors='coerce').astype('Int64')\n",
    "\n",
    "print(\"Converted 'credit_amount', 'duration', and 'age' columns to integers.\")\n"
   ]
  },
  {
   "cell_type": "code",
   "execution_count": 10,
   "id": "a2eea9e0-eb95-43fa-9415-7daeaa9ef25c",
   "metadata": {},
   "outputs": [],
   "source": [
    "### Task 2.3 — Update checking_status values to categories\n"
   ]
  },
  {
   "cell_type": "code",
   "execution_count": 12,
   "id": "2990d301-74f6-45d7-97f8-327d957e96d0",
   "metadata": {},
   "outputs": [
    {
     "name": "stdout",
     "output_type": "stream",
     "text": [
      "Updated checking_status values.\n"
     ]
    }
   ],
   "source": [
    "# Update checking_status values\n",
    "df['checking_status'] = df['checking_status'].replace({\n",
    "    'no checking': 'No Checking',\n",
    "    '<0': 'Low',\n",
    "    '0<=X<200': 'Medium',\n",
    "    '>=200': 'High'\n",
    "})\n",
    "\n",
    "print(\"Updated checking_status values.\")\n"
   ]
  },
  {
   "cell_type": "code",
   "execution_count": 13,
   "id": "9058d6f8-17bb-4e9d-a419-190cf58f08ea",
   "metadata": {},
   "outputs": [],
   "source": [
    "### Task 2.4 — Update savings_status values to standardized categories\n"
   ]
  },
  {
   "cell_type": "code",
   "execution_count": 15,
   "id": "f7e605e3-1afa-4003-aa8c-b7176d34379f",
   "metadata": {},
   "outputs": [
    {
     "name": "stdout",
     "output_type": "stream",
     "text": [
      "Updated savings_status values.\n"
     ]
    }
   ],
   "source": [
    "# Update savings_status values\n",
    "df['savings_status'] = df['savings_status'].replace({\n",
    "    'no known savings': 'No Savings',\n",
    "    '<100': 'Low',\n",
    "    '100<=X<500': 'Medium',\n",
    "    '500<=X<1000': 'High',\n",
    "    '>=1000': 'High'\n",
    "})\n",
    "\n",
    "print(\"Updated savings_status values.\")\n"
   ]
  },
  {
   "cell_type": "code",
   "execution_count": 16,
   "id": "5b0f906b-49b9-480f-824c-045079b9bd64",
   "metadata": {},
   "outputs": [],
   "source": [
    "### Task 2.5 — Convert 'class' values from 'good'/'bad' to 1/0\n"
   ]
  },
  {
   "cell_type": "code",
   "execution_count": 18,
   "id": "88643934-d644-4ee1-b63a-63d7dd64a0e7",
   "metadata": {},
   "outputs": [
    {
     "name": "stdout",
     "output_type": "stream",
     "text": [
      "Converted 'class' column to binary values.\n"
     ]
    }
   ],
   "source": [
    "# Convert class labels to binary\n",
    "df['class'] = df['class'].replace({\n",
    "    'good': 1,\n",
    "    'bad': 0\n",
    "})\n",
    "\n",
    "print(\"Converted 'class' column to binary values.\")\n"
   ]
  },
  {
   "cell_type": "code",
   "execution_count": 19,
   "id": "28aac3d8-f8bd-4ecc-b662-1757bef14b69",
   "metadata": {},
   "outputs": [],
   "source": [
    "### Task 2.6 — Standardize 'employment' values based on experience range\n"
   ]
  },
  {
   "cell_type": "code",
   "execution_count": 20,
   "id": "401da247-a61f-42cc-86f7-7a5d41c1c21a",
   "metadata": {},
   "outputs": [
    {
     "name": "stdout",
     "output_type": "stream",
     "text": [
      "Updated 'employment' values.\n"
     ]
    }
   ],
   "source": [
    "# Map employment values to new labels\n",
    "df['employment'] = df['employment'].replace({\n",
    "    'unemployed': 'Unemployed',\n",
    "    '<1': 'Amateur',\n",
    "    '1<=X<4': 'Professional',\n",
    "    '4<=X<7': 'Experienced',\n",
    "    '>=7': 'Expert'\n",
    "})\n",
    "\n",
    "print(\"Updated 'employment' values.\")\n"
   ]
  },
  {
   "cell_type": "code",
   "execution_count": 21,
   "id": "49d36321-de27-4f4d-9b7a-6988620c3ec0",
   "metadata": {},
   "outputs": [],
   "source": [
    "### Task 2.7.1 — Crosstab of foreign_worker vs class (credit outcome)\n"
   ]
  },
  {
   "cell_type": "code",
   "execution_count": 22,
   "id": "c95cd0a4-13b7-48e5-bbb6-9996764ace8c",
   "metadata": {},
   "outputs": [
    {
     "name": "stdout",
     "output_type": "stream",
     "text": [
      "Crosstab: foreign_worker vs class\n",
      "class             0    1\n",
      "foreign_worker          \n",
      "no                4   33\n",
      "yes             296  667\n"
     ]
    }
   ],
   "source": [
    "# Crosstab: foreign_worker vs class\n",
    "foreign_class_ct = pd.crosstab(df['foreign_worker'], df['class'])\n",
    "\n",
    "print(\"Crosstab: foreign_worker vs class\")\n",
    "print(foreign_class_ct)\n"
   ]
  },
  {
   "cell_type": "code",
   "execution_count": 23,
   "id": "727f8294-30b5-433f-9ac6-b9f2891df230",
   "metadata": {},
   "outputs": [],
   "source": [
    "### Task 2.7.2 — Crosstab of employment vs savings_status\n"
   ]
  },
  {
   "cell_type": "code",
   "execution_count": 24,
   "id": "af43f76e-a662-48c7-9f11-aad15cfda69f",
   "metadata": {},
   "outputs": [
    {
     "name": "stdout",
     "output_type": "stream",
     "text": [
      "Crosstab: employment vs savings_status\n",
      "savings_status  High  Low  Medium  No Savings\n",
      "employment                                   \n",
      "Amateur           12  120      17          23\n",
      "Experienced       18  100      24          32\n",
      "Expert            34  133      22          64\n",
      "Professional      44  210      33          52\n",
      "Unemployed         3   40       7          12\n"
     ]
    }
   ],
   "source": [
    "# Crosstab: employment vs savings_status\n",
    "emp_savings_ct = pd.crosstab(df['employment'], df['savings_status'])\n",
    "\n",
    "print(\"Crosstab: employment vs savings_status\")\n",
    "print(emp_savings_ct)\n"
   ]
  },
  {
   "cell_type": "code",
   "execution_count": 25,
   "id": "640a562d-6579-4df2-9285-052a2d693550",
   "metadata": {},
   "outputs": [],
   "source": [
    "### Task 2.7.3 — Average credit_amount for single males with 4–7 years employment (Experienced)\n"
   ]
  },
  {
   "cell_type": "code",
   "execution_count": 28,
   "id": "b53537ac-2c4d-42b8-9fea-db52f8b99b16",
   "metadata": {},
   "outputs": [
    {
     "name": "stdout",
     "output_type": "stream",
     "text": [
      "['male single' 'female div/dep/mar' 'male div/sep' 'male mar/wid']\n",
      "['Expert' 'Professional' 'Experienced' 'Unemployed' 'Amateur']\n",
      "Average credit_amount: 4142.592592592592\n"
     ]
    }
   ],
   "source": [
    "# Filter for single males with 4–7 years of employment\n",
    "print(df['personal_status'].unique())\n",
    "print(df['employment'].unique())\n",
    "\n",
    "filtered = df[(df['personal_status'] == 'male single') & (df['employment'] == 'Experienced')]\n",
    "\n",
    "\n",
    "# Calculate average credit amount\n",
    "avg_credit = filtered['credit_amount'].mean()\n",
    "\n",
    "print(f\"Average credit_amount: {avg_credit}\")\n"
   ]
  },
  {
   "cell_type": "code",
   "execution_count": 29,
   "id": "fd7d22ec-2840-4a3d-8135-fa0f1261329d",
   "metadata": {},
   "outputs": [],
   "source": [
    "### Task 2.7.4 — Find average credit duration for each job type\n"
   ]
  },
  {
   "cell_type": "code",
   "execution_count": 30,
   "id": "2b9ca55a-3150-41be-a340-39c4de5a9cd9",
   "metadata": {},
   "outputs": [
    {
     "name": "stdout",
     "output_type": "stream",
     "text": [
      "Average credit duration per job type:\n",
      "job\n",
      "high qualif/self emp/mgmt    25.168919\n",
      "skilled                      21.411111\n",
      "unemp/unskilled non res      17.363636\n",
      "unskilled resident              16.535\n",
      "Name: duration, dtype: Float64\n"
     ]
    }
   ],
   "source": [
    "# Group by job and calculate average credit duration\n",
    "avg_duration_per_job = df.groupby('job')['duration'].mean()\n",
    "\n",
    "print(\"Average credit duration per job type:\")\n",
    "print(avg_duration_per_job)\n"
   ]
  },
  {
   "cell_type": "code",
   "execution_count": 31,
   "id": "27a16072-a311-485d-bf02-47119261a594",
   "metadata": {},
   "outputs": [],
   "source": [
    "### Task 2.7.5 — Most common checking_status and savings_status for purpose = \"education\"\n"
   ]
  },
  {
   "cell_type": "code",
   "execution_count": 32,
   "id": "c0ae8203-e23e-401d-b388-a18ca014a1bd",
   "metadata": {},
   "outputs": [
    {
     "name": "stdout",
     "output_type": "stream",
     "text": [
      "Most common checking status: No Checking\n",
      "Most common savings status: Low\n"
     ]
    }
   ],
   "source": [
    "# Filter for rows where purpose is 'education'\n",
    "education_df = df[df['purpose'] == 'education']\n",
    "\n",
    "# Find most common checking_status and savings_status\n",
    "most_common_checking = education_df['checking_status'].mode()[0]\n",
    "most_common_savings = education_df['savings_status'].mode()[0]\n",
    "\n",
    "print(f\"Most common checking status: {most_common_checking}\")\n",
    "print(f\"Most common savings status: {most_common_savings}\")\n"
   ]
  },
  {
   "cell_type": "code",
   "execution_count": 33,
   "id": "23d4a2a6-e6d5-447b-bed3-12259b31813d",
   "metadata": {},
   "outputs": [],
   "source": [
    "### Task 2.8.1 — Bar Charts: savings_status and checking_status to personal_status\n"
   ]
  },
  {
   "cell_type": "code",
   "execution_count": 34,
   "id": "facf2436-d60a-46ae-94c2-8def0ee014b5",
   "metadata": {},
   "outputs": [
    {
     "data": {
      "image/png": "[encoded data removed]",
      "text/plain": [
       "<Figure size 1400x600 with 2 Axes>"
      ]
     },
     "metadata": {},
     "output_type": "display_data"
    }
   ],
   "source": [
    "import matplotlib.pyplot as plt\n",
    "\n",
    "# Create figure and two subplots\n",
    "fig, axs = plt.subplots(1, 2, figsize=(14, 6))\n",
    "\n",
    "# Bar plot 1: savings_status → personal_status\n",
    "savings_ct = pd.crosstab(df['savings_status'], df['personal_status'])\n",
    "savings_ct.plot(kind='bar', stacked=False, ax=axs[0], colormap='tab10', edgecolor='black')\n",
    "axs[0].set_title('Savings Status vs Personal Status')\n",
    "axs[0].set_xlabel('Savings Status')\n",
    "axs[0].set_ylabel('Number of People')\n",
    "\n",
    "# Bar plot 2: checking_status → personal_status\n",
    "checking_ct = pd.crosstab(df['checking_status'], df['personal_status'])\n",
    "checking_ct.plot(kind='bar', stacked=False, ax=axs[1], colormap='tab10', edgecolor='black')\n",
    "axs[1].set_title('Checking Status vs Personal Status')\n",
    "axs[1].set_xlabel('Checking Status')\n",
    "axs[1].set_ylabel('Number of People')\n",
    "\n",
    "# Layout and show\n",
    "plt.tight_layout()\n",
    "plt.show()\n"
   ]
  },
  {
   "cell_type": "code",
   "execution_count": 35,
   "id": "73153139-ddae-44e6-92bc-84b46ecaed9a",
   "metadata": {},
   "outputs": [],
   "source": [
    "### Task 2.8.2 — Bar Chart: Property Magnitude vs Avg Age (credit_amount > 4000)\n"
   ]
  },
  {
   "cell_type": "code",
   "execution_count": 38,
   "id": "1d2fad0b-8baa-4714-aa91-cea504161eb5",
   "metadata": {},
   "outputs": [
    {
     "data": {
      "image/png": "[encoded data removed]",
      "text/plain": [
       "<Figure size 800x500 with 1 Axes>"
      ]
     },
     "metadata": {},
     "output_type": "display_data"
    }
   ],
   "source": [
    "# Filter for credit_amount > 4000\n",
    "high_credit_df = df[df['credit_amount'] > 4000]\n",
    "\n",
    "# Group by property_magnitude and get average age\n",
    "avg_age_by_property = high_credit_df.groupby('property_magnitude')['age'].mean()\n",
    "\n",
    "# Plot\n",
    "avg_age_by_property.plot(kind='bar', color='blue', edgecolor='black', figsize=(8, 5))\n",
    "plt.title('Avg Age by Property Magnitude (Credit > 4000)')\n",
    "plt.xlabel('Property Magnitude')\n",
    "plt.ylabel('Average Age')\n",
    "plt.xticks(rotation=45)\n",
    "plt.tight_layout()\n",
    "plt.show()\n"
   ]
  },
  {
   "cell_type": "code",
   "execution_count": 39,
   "id": "8ed7ad2b-bed2-41c5-af19-eba595fda82a",
   "metadata": {},
   "outputs": [],
   "source": [
    "### Task 2.8.3 — Pie Charts for High Savings and Age > 40\n"
   ]
  },
  {
   "cell_type": "code",
   "execution_count": null,
   "id": "df2017ec-e391-4336-acdf-37a06149cea0",
   "metadata": {},
   "outputs": [],
   "source": [
    "%matplotlib inline\n",
    "import pandas as pd\n",
    "import matplotlib.pyplot as plt\n",
    "\n",
    "# Load the dataset\n",
    "df = pd.read_csv(\"GermanCredit.csv\")\n",
    "\n",
    "# --- Minimal Preprocessing for the Pie Chart Section ---\n",
    "# Convert age column to numeric if it isn't already.\n",
    "df['age'] = pd.to_numeric(df['age'], errors='coerce')\n",
    "\n",
    "# Recode savings_status so that '500<=X<1000' and '>=1000' become 'High'.\n",
    "df['savings_status'] = df['savings_status'].replace({\n",
    "    'no known savings': 'No Savings',\n",
    "    '<100': 'Low',\n",
    "    '100<=X<500': 'Medium',\n",
    "    '500<=X<1000': 'High',\n",
    "    '>=1000': 'High'\n",
    "})\n",
    "\n",
    "# (Assume other preprocessing has been done previously)\n",
    "\n",
    "# Debug: Print the unique values to confirm the recoding\n",
    "print(\"Unique savings_status values:\", df['savings_status'].unique())\n",
    "print(\"Age summary:\")\n",
    "print(df['age'].describe())\n",
    "\n",
    "# --- Filter Data for Visualization ---\n",
    "# Filter for rows with \"High\" savings_status and age > 40\n",
    "filtered_df = df[(df['savings_status'] == 'High') & (df['age'] > 40)]\n",
    "print(\"Filtered DataFrame shape (High and age > 40):\", filtered_df.shape)\n",
    "\n",
    "# For demonstration purposes, if the filtered_df is empty,\n",
    "# we fall back to using the entire dataset so that a pie chart is produced.\n",
    "if filtered_df.empty:\n",
    "    print(\"No rows match the filter (savings_status == 'High' and age > 40'). Using full dataset for demonstration.\")\n",
    "    filtered_df = df.copy()\n",
    "\n",
    "# --- Visualization: Create Three Pie Charts ---\n",
    "# Set up subplots: 1 row, 3 columns\n",
    "fig, axs = plt.subplots(1, 3, figsize=(18, 5))\n",
    "\n",
    "# Pie Chart 1: Personal Status\n",
    "personal_counts = filtered_df['personal_status'].value_counts()\n",
    "axs[0].pie(personal_counts, labels=personal_counts.index, autopct='%1.1f%%', startangle=90)\n",
    "axs[0].set_title(\"Personal Status\")\n",
    "axs[0].set_ylabel(\"\")\n",
    "\n",
    "# Pie Chart 2: Credit History\n",
    "credit_counts = filtered_df['credit_history'].value_counts()\n",
    "axs[1].pie(credit_counts, labels=credit_counts.index, autopct='%1.1f%%', startangle=90)\n",
    "axs[1].set_title(\"Credit History\")\n",
    "axs[1].set_ylabel(\"\")\n",
    "\n",
    "# Pie Chart 3: Job\n",
    "job_counts = filtered_df['job'].value_counts()\n",
    "axs[2].pie(job_counts, labels=job_counts.index, autopct='%1.1f%%', startangle=90)\n",
    "axs[2].set_title(\"Job\")\n",
    "axs[2].set_ylabel(\"\")\n",
    "\n",
    "plt.tight_layout()\n",
    "plt.show()\n"
   ]
  },
  {
   "cell_type": "code",
   "execution_count": null,
   "id": "7f07b412-8153-4f9e-947b-dd70bda23531",
   "metadata": {},
   "outputs": [],
   "source": []
  }
 ],
 "metadata": {
  "kernelspec": {
   "display_name": "Python 3 (ipykernel)",
   "language": "python",
   "name": "python3"
  },
  "language_info": {
   "codemirror_mode": {
    "name": "ipython",
    "version": 3
   },
   "file_extension": ".py",
   "mimetype": "text/x-python",
   "name": "python",
   "nbconvert_exporter": "python",
   "pygments_lexer": "ipython3",
   "version": "3.12.7"
  }
 },
 "nbformat": 4,
 "nbformat_minor": 5
}
